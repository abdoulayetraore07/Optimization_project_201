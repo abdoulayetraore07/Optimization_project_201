{
 "cells": [
  {
   "cell_type": "markdown",
   "metadata": {
    "editable": true,
    "raw_mimetype": "",
    "slideshow": {
     "slide_type": ""
    },
    "tags": []
   },
   "source": [
    "## Introduction\n",
    "\n",
    "During this project, we have used Python.\n",
    "\n",
    "As part of this practical session, we focus on the **Sequential Quadratic Programming (SQP)** method for the iterative resolution of constrained differentiable optimization problems using a local SQP algorithm.\n",
    "\n",
    "The main objective is to numerically solve the following quadratic problem:\n",
    "\n",
    "$$\n",
    "\\inf_{x=(x_1,\\dots,x_5) \\in \\mathbb{R}^5}\n",
    "\\left\\{\n",
    "e^{\\prod_{i=1}^5 x_i} - \\frac{1}{2} \\left( x_1^3 + x_2^3 + 1 \\right)^2\n",
    "\\right\\},\n",
    "$$\n",
    "\n",
    "Subject to:\n",
    "\n",
    "$$\n",
    "\\sum_{i=1}^5 x_i^2 = 10, \\quad x_2 x_3 = 5 x_4 x_5, \\quad x_1^3 + x_2^3 = -1.\n",
    "$$\n"
   ]
  },
  {
   "attachments": {},
   "cell_type": "markdown",
   "metadata": {
    "editable": true,
    "slideshow": {
     "slide_type": ""
    },
    "tags": []
   },
   "source": [
    "### 1. Formulation of the Problem\n",
    "\n",
    "The optimization problem to be solved is:\n",
    "\n",
    "$$\n",
    "\\inf_{x=(x_1,\\dots,x_5) \\in \\mathbb{R}^5}\n",
    "\\left\\{\n",
    "e^{\\prod_{i=1}^5 x_i} - \\frac{1}{2} \\left( x_1^3 + x_2^3 + 1 \\right)^2\n",
    "\\right\\},\n",
    "$$\n",
    "\n",
    "Subject to:\n",
    "\n",
    "$$\n",
    "\\sum_{i=1}^5 x_i^2 = 10, \\quad x_2 x_3 = 5 x_4 x_5, \\quad x_1^3 + x_2^3 = -1.\n",
    "$$\n",
    "\n",
    "The constraint $$x_1^3 + x_2^3 = -1$$ simplifies the second term in the objective function. Notice that plugging a constraint in the objective function can sometimes generate some errors due to hidden variables. In this case, keeping the condition ensures that the problem is equivalent.\n",
    "\n",
    "Since the exponential function $e^x$ is strictly increasing, minimizing $e^{\\prod_{i=1}^5 x_i}$ is equivalent to minimizing the product:\n",
    "\n",
    "$$\n",
    "\\inf_{x=(x_1,\\dots,x_5) \\in \\mathbb{R}^5} e^{\\prod_{i=1}^5 x_i} \n",
    "\\iff \\inf_{x=(x_1,\\dots,x_5) \\in \\mathbb{R}^5} \\prod_{i=1}^5 x_i.\n",
    "$$\n",
    "\n",
    "Thus, the equivalence holds:\n",
    "\n",
    "$$\n",
    "\\inf_{x \\in A} f(x), \\quad \\text{where} \\quad f(x) = \\prod_{i=1}^5 x_i \\quad \\text{and} \\quad g(x) = \\begin{bmatrix}\n",
    "\\sum_{i=1}^5 x_i^2 - 10 \\\\\n",
    "x_2 x_3 - 5 x_4 x_5 \\\\\n",
    "x_1^3 + x_2^3 + 1\n",
    "\\end{bmatrix}.\n",
    "$$\n",
    "\n",
    "The primal optimization problem becomes:\n",
    "\n",
    "$$\n",
    "\\inf_{x \\in A} f(x),\n",
    "$$\n",
    "\n",
    "where $A = \\{x \\in \\mathbb{R}^5 : g(x) = 0\\}$.\n"
   ]
  },
  {
   "cell_type": "markdown",
   "metadata": {
    "editable": true,
    "slideshow": {
     "slide_type": ""
    },
    "tags": []
   },
   "source": [
    "### 2. Karush-Kuhn-Tucker (KKT) Conditions\n",
    "\n",
    "The set $A$ is defined as:\n",
    "\n",
    "$$\n",
    "A = \\{x \\in \\mathbb{R}^5 : g(x) = 0\\},\n",
    "$$\n",
    "\n",
    "where $f(x)$ and $g(x)$ are defined as:\n",
    "\n",
    "$$\n",
    "f(x) = \\prod_{i=1}^5 x_i, \\quad g(x) = \\begin{bmatrix}\n",
    "\\sum_{i=1}^5 x_i^2 - 10 \\\\\n",
    "x_2 x_3 - 5 x_4 x_5 \\\\\n",
    "x_1^3 + x_2^3 + 1\n",
    "\\end{bmatrix}.\n",
    "$$\n",
    "\n",
    "####     Characterization of the Set \\(A\\) and Function \\(f\\):\n",
    "\n",
    "- The set $A$ is not empty (**feasibility**).\n",
    "- The set $A$ is bounded and closed (**compactness**).\n",
    "- The function $f(x)$ is continuous over $A$ (**continuity**).\n",
    "\n"
   ]
  },
  {
   "cell_type": "markdown",
   "metadata": {
    "editable": true,
    "slideshow": {
     "slide_type": ""
    },
    "tags": []
   },
   "source": [
    "####     Lagrangian Function\n",
    "\n",
    "The Lagrangian function associated with the problem (PCE) is:\n",
    "\n",
    "$$\n",
    "\\mathcal{L}(x, \\lambda) = f(x) + \\lambda^\\top g(x),\n",
    "$$\n",
    "\n",
    "where $f(x)$ is the objective function, $g(x)$ are the constraints, and $\\lambda$ is the vector of Lagrange multipliers.\n",
    "\n",
    "The KKT system associated with this optimization problem is:\n",
    "\n",
    "1. **Stationarity**:\n",
    "   $$\n",
    "   \\nabla f(\\bar{x}) + J_g(\\bar{x})^\\top \\lambda = 0.\n",
    "   $$\n",
    "\n",
    "2. **Feasibility**:\n",
    "   $$\n",
    "   g(\\bar{x}) = 0.\n",
    "   $$\n"
   ]
  },
  {
   "cell_type": "markdown",
   "metadata": {
    "editable": true,
    "slideshow": {
     "slide_type": ""
    },
    "tags": []
   },
   "source": [
    "### 3. Original Problem PCE\n",
    "\n",
    "The original constrained optimization problem is defined as:\n",
    "\n",
    "$$\n",
    "\\inf_{x \\in \\mathbb{R}^n} f(x) \\quad \\text{subject to} \\quad g(x) = 0,\n",
    "$$\n",
    "\n",
    "where:\n",
    "$$\n",
    "f(x) = \\prod_{i=1}^5 x_i, \\quad g(x) = \\begin{bmatrix}\n",
    "\\sum_{i=1}^5 x_i^2 - 10 \\\\\n",
    "x_2 x_3 - 5 x_4 x_5 \\\\\n",
    "x_1^3 + x_2^3 + 1\n",
    "\\end{bmatrix}.\n",
    "$$\n",
    "\n",
    "#### Equality System $(LE_k)$:\n",
    "\n",
    "$$\n",
    "\\begin{pmatrix}\n",
    "H_x \\mathcal{L}(x^k, \\lambda^k) & J_g(x^k)^\\top \\\\\n",
    "J_g(x^k) & 0_{m \\times m}\n",
    "\\end{pmatrix}\n",
    "\\begin{pmatrix}\n",
    "a^k \\\\\n",
    "b^k\n",
    "\\end{pmatrix}\n",
    "= -\n",
    "\\begin{pmatrix}\n",
    "\\nabla f(x^k) + J_g(x^k)^\\top \\lambda^k \\\\\n",
    "g(x^k)\n",
    "\\end{pmatrix}.\n",
    "$$\n",
    "\n",
    "#### Quadratic Subproblem $(PQ_k)$:\n",
    "\n",
    "The quadratic subproblem minimizes the following:\n",
    "\n",
    "$$\n",
    "\\inf_{a \\in \\mathbb{R}^n}\n",
    "\\left\\{\n",
    "\\frac{1}{2} a^\\top H_x \\mathcal{L}(x^k, \\lambda^k) a + a^\\top \\nabla f(x^k)\n",
    "\\right\\},\n",
    "$$\n",
    "\n",
    "Subject to:\n",
    "\n",
    "$$\n",
    "g(x^k) + J_g(x^k) a = 0.\n",
    "$$\n"
   ]
  },
  {
   "cell_type": "markdown",
   "metadata": {
    "editable": true,
    "slideshow": {
     "slide_type": ""
    },
    "tags": []
   },
   "source": [
    "### Stopping Criterion\n",
    "\n",
    "The algorithm terminates when:\n",
    "\n",
    "$$\n",
    "\\|\\nabla_x \\mathcal{L}(x^k, \\lambda^k)\\| \\leq \\epsilon \\quad \\text{or} \\quad \\|x^{k+1} - x^k\\| \\leq \\epsilon,\n",
    "$$\n",
    "\n",
    "where $\\epsilon > 0$ is a predefined tolerance.\n"
   ]
  },
  {
   "attachments": {},
   "cell_type": "markdown",
   "metadata": {
    "editable": true,
    "slideshow": {
     "slide_type": ""
    },
    "tags": []
   },
   "source": [
    "## Local SQP Algorithm Configuration\n",
    "\n",
    "\n",
    "### Function Descriptions\n",
    "\n",
    "#### **Function: computation.py**\n",
    "1. **`initialize_matrices`**\n",
    "   - **Purpose**: Sets up and initializes the matrices required for computations.\n",
    "   - **Details**:\n",
    "     - Creates initial values for matrices and variables.\n",
    "     - Ensures they adhere to mathematical constraints and dimensions.\n",
    "     - This step is crucial for preparing data for the optimization algorithms.\n",
    "\n",
    "#### **Function: main_program.py**\n",
    "2. **`run_program`**\n",
    "   - **Purpose**: Main driver function orchestrating the sequence of operations.\n",
    "   - **Details**:\n",
    "     - Coordinates setup, computations, and optimizations.\n",
    "     - Ensures all modules work together cohesively.\n",
    "     - Typically used for end-to-end testing and obtaining final results.\n",
    "\n",
    "#### **Function: optimization.py**\n",
    "3. **`calculate_convergence_rate`**\n",
    "   - **Purpose**: Computes the convergence rate of the optimization algorithm.\n",
    "   - **Details**:\n",
    "     - Measures improvement in the objective function or residuals.\n",
    "     - Evaluates the efficiency and performance of the algorithm.\n",
    "\n",
    "4. **`NewtonOptimization`**\n",
    "   - **Purpose**: Implements the Newton method for solving constrained optimization problems.\n",
    "   - **Details**:\n",
    "     - Uses second-order derivatives (Hessian matrix) for solution updates.\n",
    "     - Adheres to constraints through Lagrange multipliers or similar techniques.\n",
    "     - Efficient for smooth and differentiable problems.\n",
    "\n",
    "#### **Function: settings.py**\n",
    "5. **No Functions**\n",
    "   - **Contents**: Stores project-wide constants and configurations.\n",
    "   - **Examples**:\n",
    "     - Convergence tolerances (e.g., \\(\\epsilon\\)).\n",
    "     - Maximum iteration limits.\n",
    "     - Initial guesses for variables.\n",
    "\n",
    "#### **Function: visualization.py**\n",
    "6. **`display_convergence_plot`**\n",
    "   - **Purpose**: Visualizes the convergence behavior of the optimization algorithm.\n",
    "   - **Details**:\n",
    "     - Plots metrics like error or objective function values over iterations.\n",
    "     - Provides a visual representation of the algorithm's performance.\n",
    "     - Useful for identifying issues like slow convergence or divergence.\n"
   ]
  },
  {
   "cell_type": "code",
   "execution_count": 239,
   "metadata": {
    "editable": true,
    "raw_mimetype": "",
    "slideshow": {
     "slide_type": ""
    },
    "tags": []
   },
   "outputs": [],
   "source": [
    "# Import necessary libraries\n",
    "import numpy as np  # For numerical operations\n",
    "import matplotlib.pyplot as plt  # For plotting\n",
    "from sympy import symbols, Eq, solve  # For symbolic mathematics\n",
    "import sympy as sp\n"
   ]
  },
  {
   "cell_type": "code",
   "execution_count": 241,
   "metadata": {
    "editable": true,
    "slideshow": {
     "slide_type": ""
    },
    "tags": []
   },
   "outputs": [],
   "source": [
    "def initialize_matrices():\n",
    "    # Define symbolic variables\n",
    "    x1, x2, x3, x4, x5, lambda1, lambda2, lambda3 = sp.symbols('x1 x2 x3 x4 x5 lambda1 lambda2 lambda3')\n",
    "\n",
    "    # Define the objective function\n",
    "    objective_function = x1 * x2 * x3 * x4 * x5\n",
    "\n",
    "    # Define constraints\n",
    "    constraint_1 = x1**2 + x2**2 + x3**2 + x4**2 + x5**2 - 10\n",
    "    constraint_2 = 5 * x5 * x4 - x2 * x3\n",
    "    constraint_3 = x1**3 + x2**3 + 1\n",
    "\n",
    "    # Create the Hessian matrix\n",
    "    hessian_f = sp.hessian(objective_function, [x1, x2, x3, x4, x5, lambda1, lambda2, lambda3])\n",
    "    hessian_constraints = sp.hessian(\n",
    "        lambda1 * constraint_1 + lambda2 * constraint_2 + lambda3 * constraint_3, \n",
    "        [x1, x2, x3, x4, x5, lambda1, lambda2, lambda3]\n",
    "    )\n",
    "\n",
    "    # Combine to form the symbolic matrix\n",
    "    symbolic_matrix = hessian_f + hessian_constraints\n",
    "\n",
    "    # Create the constraint vector\n",
    "    variables = [x1, x2, x3, x4, x5, lambda1, lambda2, lambda3]\n",
    "    constraint_vector = sp.Matrix([\n",
    "        sp.diff(objective_function + lambda1 * constraint_1 + lambda2 * constraint_2 + lambda3 * constraint_3, var) \n",
    "        for var in variables\n",
    "    ])\n",
    "\n",
    "    return symbolic_matrix, constraint_vector\n"
   ]
  },
  {
   "cell_type": "code",
   "execution_count": 243,
   "metadata": {
    "editable": true,
    "slideshow": {
     "slide_type": ""
    },
    "tags": []
   },
   "outputs": [],
   "source": [
    "def display_convergence_plot(results, title, legend_label):\n",
    "    \"\"\"Display the distance convergence graph.\"\"\"\n",
    "    distances = results['distances']\n",
    "    iterations = np.arange(len(distances))\n",
    "    \n",
    "    plt.plot(iterations, distances, label=legend_label, color='blue', marker='o')\n",
    "    plt.title(title)\n",
    "    plt.xlabel(\"Iterations\")\n",
    "    plt.ylabel(\"Distance (L2 Norm)\")\n",
    "    plt.legend()\n",
    "    plt.grid()\n",
    "    plt.show()\n"
   ]
  },
  {
   "cell_type": "code",
   "execution_count": 245,
   "metadata": {
    "editable": true,
    "slideshow": {
     "slide_type": ""
    },
    "tags": []
   },
   "outputs": [],
   "source": [
    "import numpy as np\n",
    "import time\n",
    "\n",
    "def calculate_convergence_rate(distances):\n",
    "    \"\"\"\n",
    "    Calculate the convergence rate based on a list or array of distances.\n",
    "\n",
    "    Parameters:\n",
    "        distances (list or np.ndarray): A sequence of Lp distances or errors.\n",
    "\n",
    "    Returns:\n",
    "        tuple: (mu, rate)\n",
    "            - mu: Estimated convergence rate (last valid ratio).\n",
    "            - rate: String indicating the type of convergence \n",
    "                    ('Superlinear or Quadratic', 'Linear', or 'Sublinear or Divergent').\n",
    "    \"\"\"\n",
    "    # Calculate successive differences\n",
    "    differences = np.diff(distances)\n",
    "\n",
    "    # Ensure enough data for convergence analysis\n",
    "    if len(differences) < 2:\n",
    "        return None, \"Insufficient data to determine rate\"\n",
    "\n",
    "    # Calculate successive ratios with protection against division by zero\n",
    "    valid_differences = differences[1:]  # Denominators for ratios\n",
    "    with np.errstate(divide='ignore', invalid='ignore'):\n",
    "        ratios = np.divide(differences[:-1], valid_differences, where=valid_differences != 0)\n",
    "        ratios[np.isnan(ratios)] = 0  # Replace NaNs with 0\n",
    "\n",
    "    # Use the last valid ratio\n",
    "    mu = ratios[-1] if len(ratios) > 0 else None\n",
    "\n",
    "    # Determine convergence rate\n",
    "    if mu is not None:\n",
    "        if mu < 1:\n",
    "            rate = \"Superlinear or Quadratic\"\n",
    "        elif mu == 1:\n",
    "            rate = \"Linear\"\n",
    "        else:\n",
    "            rate = \"Sublinear or Divergent\"\n",
    "    else:\n",
    "        rate = \"Unable to determine\"\n",
    "\n",
    "    return mu, rate\n",
    "\n",
    "\n",
    "\n",
    "def NewtonOptimization(initial_values, lagrange_values, max_iterations, tolerance, lp_norm, matrix, vector):\n",
    "    \"\"\"Run the Newton optimization method and calculate important metrics.\"\"\"\n",
    "    # Initialize solution and settings\n",
    "    current_solution = np.zeros(8, dtype=float)\n",
    "    current_solution[:5] = np.array(initial_values, dtype=float)\n",
    "    current_solution[5:] = np.array(lagrange_values, dtype=float)\n",
    "\n",
    "    all_solutions = [current_solution.copy()]\n",
    "    distances = []\n",
    "\n",
    "    # Timing the process\n",
    "    start_time = time.time()\n",
    "\n",
    "    for iteration in range(max_iterations):\n",
    "        # Substitute current solution into symbolic matrix and vector\n",
    "        substituted_matrix = matrix.subs({\n",
    "            'x1': current_solution[0], 'x2': current_solution[1], \n",
    "            'x3': current_solution[2], 'x4': current_solution[3], \n",
    "            'x5': current_solution[4], 'lambda1': current_solution[5], \n",
    "            'lambda2': current_solution[6], 'lambda3': current_solution[7]\n",
    "        })\n",
    "\n",
    "        substituted_vector = vector.subs({\n",
    "            'x1': current_solution[0], 'x2': current_solution[1], \n",
    "            'x3': current_solution[2], 'x4': current_solution[3], \n",
    "            'x5': current_solution[4], 'lambda1': current_solution[5], \n",
    "            'lambda2': current_solution[6], 'lambda3': current_solution[7]\n",
    "        })\n",
    "\n",
    "        # Convert symbolic data to numerical arrays\n",
    "        matrix_np = np.array(substituted_matrix).astype(float)\n",
    "        vector_np = np.array(substituted_vector).astype(float).ravel()\n",
    "\n",
    "        # Add stability factor\n",
    "        matrix_np += 1e-9 * np.eye(matrix_np.shape[0])\n",
    "\n",
    "        # Solve the linear system\n",
    "        step = np.linalg.solve(matrix_np, vector_np)\n",
    "\n",
    "        # Update solution\n",
    "        previous_solution = current_solution.copy()\n",
    "        current_solution -= step\n",
    "        all_solutions.append(current_solution.copy())\n",
    "\n",
    "        # Calculate and store distance\n",
    "        distance = np.linalg.norm(vector_np, ord=lp_norm)\n",
    "        distances.append(distance)\n",
    "\n",
    "        # Stopping condition 1: Check step size\n",
    "        if np.linalg.norm(step, ord=lp_norm) < tolerance:\n",
    "            print(f\"Stopping due to small step size: ||step|| < {tolerance}\")\n",
    "            break\n",
    "\n",
    "        # Stopping condition 2: Check difference between successive solutions\n",
    "        if np.linalg.norm(current_solution - previous_solution, ord=lp_norm) < tolerance:\n",
    "            print(f\"Stopping due to small solution change: ||X_k+1 - X_k|| < {tolerance}\")\n",
    "            break\n",
    "\n",
    "        # Stopping condition 3: Gradient convergence (optional, if gradient distances are tracked)\n",
    "        if len(distances) > 2:\n",
    "            gradient = np.gradient(distances, edge_order=2)\n",
    "            if np.linalg.norm(gradient, ord=lp_norm) < tolerance:\n",
    "                print(f\"Stopping due to gradient convergence: ||∇L(x_k, λ_k)|| < {tolerance}\")\n",
    "                break\n",
    "\n",
    "    # End timing\n",
    "    end_time = time.time()\n",
    "    total_time = end_time - start_time\n",
    "\n",
    "    # Convergence rate\n",
    "    mu, rate = calculate_convergence_rate(distances)\n",
    "\n",
    "    return {\n",
    "        \"final_solution\": current_solution,\n",
    "        \"all_solutions\": np.array(all_solutions),\n",
    "        \"distances\": np.array(distances),\n",
    "        \"iterations\": len(distances),\n",
    "        \"cpu_time\": total_time,\n",
    "        \"convergence_rate\": rate,\n",
    "        \"rate_constant\": mu,\n",
    "    }\n",
    "\n"
   ]
  },
  {
   "cell_type": "code",
   "execution_count": 247,
   "metadata": {
    "editable": true,
    "slideshow": {
     "slide_type": ""
    },
    "tags": []
   },
   "outputs": [],
   "source": [
    "def run_program(starting_point_parametre):\n",
    "    # Step 1: Prepare symbolic matrices for the problem\n",
    "    symbolic_matrix, constraint_vector = initialize_matrices()\n",
    "\n",
    "    # Step 2: Define starting conditions\n",
    "    starting_point = starting_point_parametre\n",
    "    #starting_point = [-1.71, 1.59, 1.82, -0.763, -0.763]\n",
    "    #starting_point = [-1.9, 1.82, 2.02, -0.9, -0.9]\n",
    "    #starting_point = [1, 0, 3, 0, 0]\n",
    "    initial_lagrange = [1, 1, 1]\n",
    "\n",
    "    # Step 3: Run the optimization method\n",
    "    results = NewtonOptimization(\n",
    "        starting_point, \n",
    "        initial_lagrange, \n",
    "        max_iterations, \n",
    "        tolerance, \n",
    "        lp_norm, \n",
    "        symbolic_matrix, \n",
    "        constraint_vector\n",
    "    )\n",
    "\n",
    "    # Step 4: Display results\n",
    "    result_x= (results['final_solution'])[:5] \n",
    "    result_lambda =  (results['final_solution'])[5:8] \n",
    "    all_solution_1= results['all_solutions'][:3]\n",
    "    all_solution_2= results['all_solutions'][9:12]\n",
    "    all_solution_3= results['all_solutions'][15:18]\n",
    "    \n",
    "    # Transformer en numpy\n",
    "    matrix_np = np.array(result_x).astype(float)  \n",
    "\n",
    "    # Produit de tous les éléments\n",
    "    product = np.prod(matrix_np)\n",
    "    print(\"\\n\\n\")\n",
    "    expo_product = np.exp(product)\n",
    "    print(\"=== Optimization Results ===\")\n",
    "    print(\"\\n\\n\")\n",
    "    print(f\"Final Solution x: {result_x}\")\n",
    "    print(f\"Final Solution Lambda: {result_lambda}\")\n",
    "    print(\"\\n\\n\")\n",
    "    print(\"Value of the Objective function of PCE:\", product)\n",
    "    print(\"Value of the Objective function initial:\", expo_product)\n",
    "    print(\"\\n\\n\")\n",
    "    print(f\"Total Iterations: {results['iterations']}\")\n",
    "    print(f\"CPU Time: {results['cpu_time']} seconds\")\n",
    "    print(f\"Convergence Rate: {results['convergence_rate']} (Rate Constant: {results['rate_constant']})\")\n",
    "    print(\"\\n\\n\")\n",
    "\n",
    "    # Step 5: Visualize convergence\n",
    "    display_convergence_plot(\n",
    "        results, \n",
    "        title=\"Convergence Analysis for Starting Point\", \n",
    "        legend_label=\"Optimization Path\"\n",
    "    )\n"
   ]
  },
  {
   "cell_type": "code",
   "execution_count": 249,
   "metadata": {
    "editable": true,
    "slideshow": {
     "slide_type": ""
    },
    "tags": []
   },
   "outputs": [],
   "source": [
    "# Configuration constants\n",
    "max_iterations = 100\n",
    "tolerance = 1e-100\n",
    "lp_norm = 2  # L2 norm\n"
   ]
  },
  {
   "cell_type": "markdown",
   "metadata": {
    "editable": true,
    "slideshow": {
     "slide_type": ""
    },
    "tags": []
   },
   "source": [
    "### PARAMETERS OF THE ALGORITHM\n",
    "\n",
    "The local SQP algorithm was implemented according to **Algorithm 17** from the lecture notes. \\\n",
    "The following parameters were configured:\n",
    "\n",
    "- **Maximum number of iterations**: 100.\n",
    "\n",
    "- **Starting points for variables $(x^0\\$**:\n",
    "\n",
    "  $$\n",
    "  x^0_1 = \n",
    "  \\begin{bmatrix}\n",
    "  -1.71 \\\\\n",
    "  1.59 \\\\\n",
    "  1.82 \\\\\n",
    "  -0.763 \\\\\n",
    "  -0.763\n",
    "  \\end{bmatrix}\n",
    "  , \\quad\n",
    "  x^0_2 =\n",
    "  \\begin{bmatrix}\n",
    "  -1.9 \\\\\n",
    "  1.82 \\\\\n",
    "  2.02 \\\\\n",
    "  -0.9 \\\\\n",
    "  -0.9\n",
    "  \\end{bmatrix}\n",
    "  , \\quad\n",
    "  x^0_3 =\n",
    "  \\begin{bmatrix}\n",
    "  1 \\\\\n",
    "  0 \\\\\n",
    "  3 \\\\\n",
    "  0 \\\\\n",
    "  0\n",
    "  \\end{bmatrix}.\n",
    "  $$\n",
    "\n",
    "- **Initial Lagrange multipliers $\\lambda^0 =(1, 1, 1)^\\top$**.\n",
    "\n",
    "- **Tolerance for feasibility**: $\\epsilon = 1 \\times 10^{-100}$.\n"
   ]
  },
  {
   "cell_type": "markdown",
   "metadata": {
    "editable": true,
    "slideshow": {
     "slide_type": ""
    },
    "tags": []
   },
   "source": [
    "## Solutions Tested and Results\n",
    "\n",
    "\n",
    "\n"
   ]
  },
  {
   "cell_type": "markdown",
   "metadata": {
    "editable": true,
    "slideshow": {
     "slide_type": ""
    },
    "tags": []
   },
   "source": [
    "### **First case**"
   ]
  },
  {
   "cell_type": "code",
   "execution_count": 254,
   "metadata": {
    "editable": true,
    "slideshow": {
     "slide_type": ""
    },
    "tags": []
   },
   "outputs": [
    {
     "name": "stdout",
     "output_type": "stream",
     "text": [
      "\n",
      "\n",
      "\n",
      "=== Optimization Results ===\n",
      "\n",
      "\n",
      "\n",
      "Final Solution x: [-1.71714357  1.59570969  1.82724575 -0.76364308 -0.76364308]\n",
      "Final Solution Lambda: [0.74444593 0.70357519 0.09680552]\n",
      "\n",
      "\n",
      "\n",
      "Value of the Objective function of PCE: -2.919700408963679\n",
      "Value of the Objective function initial: 0.05394984777027203\n",
      "\n",
      "\n",
      "\n",
      "Total Iterations: 100\n",
      "CPU Time: 0.7433629035949707 seconds\n",
      "Convergence Rate: Superlinear or Quadratic (Rate Constant: -1.3504581159636646)\n",
      "\n",
      "\n",
      "\n"
     ]
    },
    {
     "data": {
      "image/png": "[encoded data removed]",
      "text/plain": [
       "<Figure size 640x480 with 1 Axes>"
      ]
     },
     "metadata": {},
     "output_type": "display_data"
    }
   ],
   "source": [
    "run_program([-1.71, 1.59, 1.82, -0.763, -0.763])"
   ]
  },
  {
   "cell_type": "markdown",
   "metadata": {
    "editable": true,
    "slideshow": {
     "slide_type": ""
    },
    "tags": []
   },
   "source": [
    "- **Initial Guess**:\n",
    "  \n",
    "  $$x^0_1 = \n",
    "  \\begin{bmatrix}\n",
    "  -1.71 \\\\\n",
    "  1.59 \\\\\n",
    "  1.82 \\\\\n",
    "  -0.763 \\\\\n",
    "  -0.763\n",
    "  \\end{bmatrix}$$\n",
    "  \n",
    "- **Final Solution**:\n",
    "  $$\n",
    "  x^* = \n",
    "  \\begin{bmatrix}\n",
    "  -1.7171 \\\\\n",
    "  1.5957 \\\\\n",
    "  1.8272 \\\\\n",
    "  -0.7636 \\\\\n",
    "  -0.7636\n",
    "  \\end{bmatrix}\n",
    "  $$\n",
    "- **Objective Function Value**: $f(x^*)$ = 0.0539\n",
    "- **Iterations**: 100\n"
   ]
  },
  {
   "cell_type": "markdown",
   "metadata": {
    "editable": true,
    "slideshow": {
     "slide_type": ""
    },
    "tags": []
   },
   "source": [
    "### **Second case**"
   ]
  },
  {
   "cell_type": "code",
   "execution_count": 258,
   "metadata": {
    "editable": true,
    "slideshow": {
     "slide_type": ""
    },
    "tags": []
   },
   "outputs": [
    {
     "name": "stdout",
     "output_type": "stream",
     "text": [
      "\n",
      "\n",
      "\n",
      "=== Optimization Results ===\n",
      "\n",
      "\n",
      "\n",
      "Final Solution x: [-1.71714357  1.59570969  1.82724575 -0.76364308 -0.76364308]\n",
      "Final Solution Lambda: [0.74444593 0.70357519 0.09680552]\n",
      "\n",
      "\n",
      "\n",
      "Value of the Objective function of PCE: -2.919700408963679\n",
      "Value of the Objective function initial: 0.05394984777027203\n",
      "\n",
      "\n",
      "\n",
      "Total Iterations: 100\n",
      "CPU Time: 0.80753493309021 seconds\n",
      "Convergence Rate: Superlinear or Quadratic (Rate Constant: -0.8542518881841474)\n",
      "\n",
      "\n",
      "\n"
     ]
    },
    {
     "data": {
      "image/png": "[encoded data removed]",
      "text/plain": [
       "<Figure size 640x480 with 1 Axes>"
      ]
     },
     "metadata": {},
     "output_type": "display_data"
    }
   ],
   "source": [
    "run_program([-1.9, 1.82, 2.02, -0.9, -0.9])"
   ]
  },
  {
   "cell_type": "markdown",
   "metadata": {
    "editable": true,
    "slideshow": {
     "slide_type": ""
    },
    "tags": []
   },
   "source": [
    "- **Initial Guess**:\n",
    "  $$x^0_2 =\n",
    "  \\begin{bmatrix}\n",
    "  -1.9 \\\\\n",
    "  1.82 \\\\\n",
    "  2.02 \\\\\n",
    "  -0.9 \\\\\n",
    "  -0.9\n",
    "  \\end{bmatrix}$$\n",
    "- **Final Solution**:\n",
    "  $$\n",
    "  x^* = \n",
    "  \\begin{bmatrix}\n",
    "  -1.7171 \\\\\n",
    "  1.5957 \\\\\n",
    "  1.8272 \\\\\n",
    "  -0.7636 \\\\\n",
    "  -0.7636\n",
    "  \\end{bmatrix}\n",
    "  $$\n",
    "- **Objective Function Value**: $f(x^*)$ = 0.0539\n",
    "- **Iterations**: 100\n",
    "\n"
   ]
  },
  {
   "cell_type": "markdown",
   "metadata": {
    "editable": true,
    "slideshow": {
     "slide_type": ""
    },
    "tags": []
   },
   "source": [
    "### **Third case**"
   ]
  },
  {
   "cell_type": "code",
   "execution_count": 261,
   "metadata": {
    "editable": true,
    "slideshow": {
     "slide_type": ""
    },
    "tags": []
   },
   "outputs": [
    {
     "name": "stdout",
     "output_type": "stream",
     "text": [
      "Stopping due to small step size: ||step|| < 1e-100\n",
      "\n",
      "\n",
      "\n",
      "=== Optimization Results ===\n",
      "\n",
      "\n",
      "\n",
      "Final Solution x: [-1.00000000e+000 -3.10338239e-113  3.00000000e+000  0.00000000e+000\n",
      "  0.00000000e+000]\n",
      "Final Solution Lambda: [-4.97552517e-207 -1.06884045e-112 -3.31701678e-207]\n",
      "\n",
      "\n",
      "\n",
      "Value of the Objective function of PCE: 0.0\n",
      "Value of the Objective function initial: 1.0\n",
      "\n",
      "\n",
      "\n",
      "Total Iterations: 18\n",
      "CPU Time: 0.3180806636810303 seconds\n",
      "Convergence Rate: Sublinear or Divergent (Rate Constant: 2999999902.0851297)\n",
      "\n",
      "\n",
      "\n"
     ]
    },
    {
     "data": {
      "image/png": "[encoded data removed]",
      "text/plain": [
       "<Figure size 640x480 with 1 Axes>"
      ]
     },
     "metadata": {},
     "output_type": "display_data"
    }
   ],
   "source": [
    "run_program([1, 0, 3, 0, 0])"
   ]
  },
  {
   "cell_type": "markdown",
   "metadata": {
    "editable": true,
    "slideshow": {
     "slide_type": ""
    },
    "tags": []
   },
   "source": [
    "- **Initial Guess**:\n",
    "  $$x^0_3 =\n",
    "  \\begin{bmatrix}\n",
    "  1 \\\\\n",
    "  0 \\\\\n",
    "  3 \\\\\n",
    "  0 \\\\\n",
    "  0\n",
    "  \\end{bmatrix}.$$\n",
    "- **Final Solution**:\n",
    "  $$\n",
    "  x^* = \n",
    "  \\begin{bmatrix}\n",
    "  -1 \\\\\n",
    "  0 \\\\\n",
    "  3 \\\\\n",
    "  0 \\\\\n",
    "  0\n",
    "  \\end{bmatrix}\n",
    "  $$\n",
    "- **Objective Function Value**: $f(x^*)$ = 1.0\n",
    "- **Iterations**: 18\n"
   ]
  },
  {
   "cell_type": "markdown",
   "metadata": {
    "editable": true,
    "slideshow": {
     "slide_type": ""
    },
    "tags": []
   },
   "source": [
    "### **Fourth case**"
   ]
  },
  {
   "cell_type": "code",
   "execution_count": 266,
   "metadata": {
    "editable": true,
    "slideshow": {
     "slide_type": ""
    },
    "tags": []
   },
   "outputs": [],
   "source": [
    "# Configuration constants\n",
    "max_iterations = 500\n",
    "tolerance = 1e-500\n",
    "lp_norm = 2  # L2 norm"
   ]
  },
  {
   "cell_type": "code",
   "execution_count": 268,
   "metadata": {
    "editable": true,
    "slideshow": {
     "slide_type": ""
    },
    "tags": []
   },
   "outputs": [
    {
     "name": "stdout",
     "output_type": "stream",
     "text": [
      "\n",
      "\n",
      "\n",
      "=== Optimization Results ===\n",
      "\n",
      "\n",
      "\n",
      "Final Solution x: [-1.  0.  3.  0.  0.]\n",
      "Final Solution Lambda: [0. 0. 0.]\n",
      "\n",
      "\n",
      "\n",
      "Value of the Objective function of PCE: -0.0\n",
      "Value of the Objective function initial: 1.0\n",
      "\n",
      "\n",
      "\n",
      "Total Iterations: 500\n",
      "CPU Time: 3.118259906768799 seconds\n",
      "Convergence Rate: Superlinear or Quadratic (Rate Constant: 0.0)\n",
      "\n",
      "\n",
      "\n"
     ]
    },
    {
     "data": {
      "image/png": "[encoded data removed]",
      "text/plain": [
       "<Figure size 640x480 with 1 Axes>"
      ]
     },
     "metadata": {},
     "output_type": "display_data"
    }
   ],
   "source": [
    "run_program([1, 0, 3, 0, 0])"
   ]
  },
  {
   "cell_type": "markdown",
   "metadata": {
    "editable": true,
    "slideshow": {
     "slide_type": ""
    },
    "tags": []
   },
   "source": [
    "- **Initial Guess**:\n",
    "  $$x^0_3 =\n",
    "  \\begin{bmatrix}\n",
    "  1 \\\\\n",
    "  0 \\\\\n",
    "  3 \\\\\n",
    "  0 \\\\\n",
    "  0\n",
    "  \\end{bmatrix}.$$\n",
    "- **Final Solution**:\n",
    "  $$\n",
    "  x^* = \n",
    "  \\begin{bmatrix}\n",
    "  -1 \\\\\n",
    "  0 \\\\\n",
    "  3 \\\\\n",
    "  0 \\\\\n",
    "  0\n",
    "  \\end{bmatrix}\n",
    "  $$\n",
    "- **Objective Function Value**: $f(x^*)$ = 1.0\n",
    "- **Iterations**: 500\n"
   ]
  },
  {
   "cell_type": "markdown",
   "metadata": {
    "slideshow": {
     "slide_type": ""
    },
    "tags": []
   },
   "source": [
    "## Conclusion\n",
    "\n",
    "The implementation and analysis of the Sequential Quadratic Programming (SQP) algorithm in this project demonstrated its efficiency and robustness for solving constrained nonlinear optimization problems under specific conditions.\n",
    "\n",
    "#### Key Takeaways:\n",
    "- **Performance on Feasible Initializations**:\n",
    "  - For Starting Points 1 and 2, the algorithm converged to the same solution, indicating its robustness for well-chosen initial guesses.\n",
    "  - The algorithm achieved superlinear or quadratic convergence, showcasing the efficiency of the SQP method with a potential global solution for these cases.\n",
    "\n",
    "- **Challenges with Poor Initializations**:\n",
    "  - For Starting Point 3 and 4, the algorithm struggled to converge due to numerical instability and constraint infeasibility.\n",
    "  - It stopped for the third case and converged for the fourth at the same solution.\n",
    "  - This highlights the sensitivity of the SQP algorithm to poorly initialized points and the importance of choosing starting values carefully. For these cases, the solution is cleary a local one.\n",
    "\n",
    "- **Objective Values and CPU Time**:\n",
    "  - The solutions for feasible starting points achieved a consistent objective value $f(x^*)$ = 0.0539 within reasonable CPU times.\n",
    "  - Poor initialization led to a higher objective value $f(x^*) = 1.0$ and fewer iterations, reflecting divergence.\n",
    "\n",
    "#### Limitations and Future Improvements:\n",
    "- The algorithm showed limitations in handling ill-conditioned problems or highly infeasible starting points.\n",
    "- Future improvements could include:\n",
    "  - Adaptive trust-region strategies for better handling of numerical instability.\n",
    "  - Enhanced preconditioning of the KKT system.\n",
    "  - Refined initialization procedures to improve robustness.\n",
    "\n",
    "#### Final Observations:\n",
    "This project not only validated the theoretical principles of the SQP method but also provided practical insights into its application. \\\n",
    "The results emphasize the importance of careful initialization, robust numerical methods, and modular implementation for solving complex optimization problems.\n"
   ]
  },
  {
   "cell_type": "code",
   "execution_count": null,
   "metadata": {},
   "outputs": [],
   "source": []
  },
  {
   "cell_type": "code",
   "execution_count": null,
   "metadata": {},
   "outputs": [],
   "source": []
  },
  {
   "cell_type": "code",
   "execution_count": null,
   "metadata": {},
   "outputs": [],
   "source": []
  }
 ],
 "metadata": {
  "kernelspec": {
   "display_name": "Python 3 (ipykernel)",
   "language": "python",
   "name": "python3"
  },
  "language_info": {
   "codemirror_mode": {
    "name": "ipython",
    "version": 3
   },
   "file_extension": ".py",
   "mimetype": "text/x-python",
   "name": "python",
   "nbconvert_exporter": "python",
   "pygments_lexer": "ipython3",
   "version": "3.12.7"
  }
 },
 "nbformat": 4,
 "nbformat_minor": 4
}
